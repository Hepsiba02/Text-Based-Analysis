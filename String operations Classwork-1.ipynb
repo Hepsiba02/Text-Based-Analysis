{
 "cells": [
  {
   "cell_type": "markdown",
   "id": "c2d16d0f",
   "metadata": {},
   "source": [
    "#                                 PYTHON STRINGS"
   ]
  },
  {
   "cell_type": "markdown",
   "id": "d33843bb",
   "metadata": {},
   "source": [
    "**BASIC STRING OPERATIONS:**"
   ]
  },
  {
   "cell_type": "markdown",
   "id": "96d70f84",
   "metadata": {},
   "source": [
    "Strings in python are surrounded by either singlequotation marks, or double quotation marks."
   ]
  },
  {
   "cell_type": "code",
   "execution_count": 34,
   "id": "3aaa5e50",
   "metadata": {},
   "outputs": [
    {
     "name": "stdout",
     "output_type": "stream",
     "text": [
      "Hello\n"
     ]
    }
   ],
   "source": [
    "# Assigning the string \"Hello\" to the variable a\n",
    "a=\"Hello\"\n",
    "print(a)"
   ]
  },
  {
   "cell_type": "markdown",
   "id": "77c93fba",
   "metadata": {},
   "source": [
    "**ACCESSING INDIVIDUAL LETTERS:**"
   ]
  },
  {
   "cell_type": "code",
   "execution_count": 35,
   "id": "d498b77f",
   "metadata": {},
   "outputs": [
    {
     "name": "stdout",
     "output_type": "stream",
     "text": [
      "e\n",
      "llo\n"
     ]
    }
   ],
   "source": [
    "# Assigning the string \"Hello, World!\" to the variable a\n",
    "a = \"Hello, World!\"\n",
    "print(a[1])\n",
    "# Assigning the string \"Hello, World!\" to the variable b\n",
    "b = \"Hello, World!\"\n",
    "print(b[2:5])"
   ]
  },
  {
   "cell_type": "markdown",
   "id": "22858ecc",
   "metadata": {},
   "source": [
    "**MORE STRING FUNCTIONS:**"
   ]
  },
  {
   "cell_type": "code",
   "execution_count": 36,
   "id": "36e10ca2",
   "metadata": {},
   "outputs": [
    {
     "name": "stdout",
     "output_type": "stream",
     "text": [
      "12\n",
      "HELLO, WORLD\n",
      "hello, world\n",
      "Jello, World\n"
     ]
    }
   ],
   "source": [
    "# Assigning the string \"Hello, World\" to the variable a\n",
    "a=\"Hello, World\"\n",
    "# Assigning the length of the string \"Hello, World\" to the variable a\n",
    "print(len(a))\n",
    "# Assigning the upper case version string \"Hello, World\" to the variable a\n",
    "print(a.upper())\n",
    "# Assigning the lower case version string \"Hello, World\" to the variable a\n",
    "print(a.lower())\n",
    "# # Replacing all occurrences of \"H\" with \"J\" in the string stored in variable a and printing the result\n",
    "print(a.replace(\"H\", \"J\"))"
   ]
  },
  {
   "cell_type": "markdown",
   "id": "acb766a0",
   "metadata": {},
   "source": [
    "**STRING CONCATENATION:**"
   ]
  },
  {
   "cell_type": "code",
   "execution_count": 2,
   "id": "5e3d5932",
   "metadata": {},
   "outputs": [
    {
     "name": "stdout",
     "output_type": "stream",
     "text": [
      "HelloWorld\n"
     ]
    }
   ],
   "source": [
    "# Concatenating strings a and b together, separated by an empty string, and assigning the result to variable c\n",
    "a= \"Hello\"\n",
    "b= \"World\"\n",
    "c=a+\"\"+b\n",
    "print(c)"
   ]
  },
  {
   "cell_type": "markdown",
   "id": "e06df7a3",
   "metadata": {},
   "source": [
    "**STRING TESTING METHODS:**"
   ]
  },
  {
   "cell_type": "code",
   "execution_count": 22,
   "id": "f112c8d3",
   "metadata": {},
   "outputs": [
    {
     "data": {
      "text/plain": [
       "True"
      ]
     },
     "execution_count": 22,
     "metadata": {},
     "output_type": "execute_result"
    }
   ],
   "source": [
    "# Checking if all characters in the string stored in variable a are alphanumeric\n",
    "a = \"Hello\"\n",
    "a.isalnum()"
   ]
  },
  {
   "cell_type": "code",
   "execution_count": 23,
   "id": "81b2ac96",
   "metadata": {},
   "outputs": [
    {
     "data": {
      "text/plain": [
       "False"
      ]
     },
     "execution_count": 23,
     "metadata": {},
     "output_type": "execute_result"
    }
   ],
   "source": [
    "# Checking if all characters in the string stored in variable a are alphabetic\n",
    "a = \"Hello World\"\n",
    "a.isalpha()"
   ]
  },
  {
   "cell_type": "code",
   "execution_count": 24,
   "id": "a11733cd",
   "metadata": {},
   "outputs": [
    {
     "data": {
      "text/plain": [
       "True"
      ]
     },
     "execution_count": 24,
     "metadata": {},
     "output_type": "execute_result"
    }
   ],
   "source": [
    "# Checking if all characters in the string stored in variable a are digits\n",
    "a = \"0\"\n",
    "a.isdigit()"
   ]
  },
  {
   "cell_type": "code",
   "execution_count": 25,
   "id": "95614c49",
   "metadata": {},
   "outputs": [
    {
     "data": {
      "text/plain": [
       "False"
      ]
     },
     "execution_count": 25,
     "metadata": {},
     "output_type": "execute_result"
    }
   ],
   "source": [
    "# Checking if all alphabetic characters in the string stored in variable a are lowercase\n",
    "a = \"123\"\n",
    "a.islower()"
   ]
  },
  {
   "cell_type": "code",
   "execution_count": 26,
   "id": "01d5dbf7",
   "metadata": {},
   "outputs": [
    {
     "data": {
      "text/plain": [
       "True"
      ]
     },
     "execution_count": 26,
     "metadata": {},
     "output_type": "execute_result"
    }
   ],
   "source": [
    "# Checking if all characters in the string stored in variable a are whitespace characters\n",
    "a = \"\\n\\t\"\n",
    "a.isspace()"
   ]
  },
  {
   "cell_type": "code",
   "execution_count": 27,
   "id": "4adbfe76",
   "metadata": {},
   "outputs": [
    {
     "data": {
      "text/plain": [
       "False"
      ]
     },
     "execution_count": 27,
     "metadata": {},
     "output_type": "execute_result"
    }
   ],
   "source": [
    "# Checking if all alphabetic characters in the string stored in variable a are uppercase\n",
    "a = \"Hello\"\n",
    "a.isupper()"
   ]
  },
  {
   "cell_type": "markdown",
   "id": "f0757e32",
   "metadata": {},
   "source": [
    "**STRING MODIFICATION METHODS:**"
   ]
  },
  {
   "cell_type": "code",
   "execution_count": 28,
   "id": "71af4fe5",
   "metadata": {},
   "outputs": [
    {
     "data": {
      "text/plain": [
       "'hello world'"
      ]
     },
     "execution_count": 28,
     "metadata": {},
     "output_type": "execute_result"
    }
   ],
   "source": [
    "# Converting all characters in the string stored in variable a to lowercase\n",
    "a = \"Hello World\"\n",
    "a.lower()"
   ]
  },
  {
   "cell_type": "code",
   "execution_count": 29,
   "id": "fdb300c7",
   "metadata": {},
   "outputs": [
    {
     "data": {
      "text/plain": [
       "'Hello World   '"
      ]
     },
     "execution_count": 29,
     "metadata": {},
     "output_type": "execute_result"
    }
   ],
   "source": [
    "# Removing leading whitespace characters from the string stored in variable a\n",
    "a = \"   Hello World   \"\n",
    "a.lstrip()"
   ]
  },
  {
   "cell_type": "code",
   "execution_count": 31,
   "id": "723bb5f0",
   "metadata": {},
   "outputs": [
    {
     "data": {
      "text/plain": [
       "'Hello World'"
      ]
     },
     "execution_count": 31,
     "metadata": {},
     "output_type": "execute_result"
    }
   ],
   "source": [
    "# Removing trailing whitespace characters from the string stored in variable a\n",
    "a = \"Hello World\\n\\n\"\n",
    "a.rstrip()"
   ]
  },
  {
   "cell_type": "code",
   "execution_count": 32,
   "id": "d01db020",
   "metadata": {},
   "outputs": [
    {
     "data": {
      "text/plain": [
       "'Hello World'"
      ]
     },
     "execution_count": 32,
     "metadata": {},
     "output_type": "execute_result"
    }
   ],
   "source": [
    "# Removing leading and trailing whitespace characters from the string stored in variable a\n",
    "a = \"\\n\\nHello World\\n\\n\"\n",
    "a.strip()"
   ]
  },
  {
   "cell_type": "code",
   "execution_count": 33,
   "id": "cace5a30",
   "metadata": {},
   "outputs": [
    {
     "data": {
      "text/plain": [
       "'HELLO123'"
      ]
     },
     "execution_count": 33,
     "metadata": {},
     "output_type": "execute_result"
    }
   ],
   "source": [
    "# Converting all characters in the string stored in variable a to uppercase\n",
    "a = \"hello123\"\n",
    "a.upper()"
   ]
  },
  {
   "cell_type": "markdown",
   "id": "4f041fbd",
   "metadata": {},
   "source": [
    "**SEARCH AND REPLACE METHODS:**"
   ]
  },
  {
   "cell_type": "code",
   "execution_count": 6,
   "id": "6e8adf5b",
   "metadata": {},
   "outputs": [
    {
     "name": "stdout",
     "output_type": "stream",
     "text": [
      "False\n"
     ]
    }
   ],
   "source": [
    "# Checking if the string stored in variable a starts with the letter \"a\"\n",
    "a=\"peter\"\n",
    "print(a.startswith(\"a\"))"
   ]
  },
  {
   "cell_type": "code",
   "execution_count": 16,
   "id": "f79a8619",
   "metadata": {},
   "outputs": [
    {
     "name": "stdout",
     "output_type": "stream",
     "text": [
      "True\n"
     ]
    }
   ],
   "source": [
    "# Checking if the string stored in variable a ends with the letter \"r\"\n",
    "a=\"peter\"\n",
    "print(a.endswith(\"r\"))"
   ]
  },
  {
   "cell_type": "code",
   "execution_count": 8,
   "id": "e905f2d8",
   "metadata": {},
   "outputs": [
    {
     "name": "stdout",
     "output_type": "stream",
     "text": [
      "0\n"
     ]
    }
   ],
   "source": [
    "# Finding the index of the substring \"peter\" in the string stored in variable a\n",
    "a=\"peter prince\"\n",
    "print(a.find(\"peter\"))"
   ]
  },
  {
   "cell_type": "code",
   "execution_count": 14,
   "id": "383b7424",
   "metadata": {},
   "outputs": [
    {
     "name": "stdout",
     "output_type": "stream",
     "text": [
      "prince\n"
     ]
    }
   ],
   "source": [
    "# Replacing all occurrences of \"peter\" with \"prince\" in the string stored in variable a\n",
    "a=\"peter\"\n",
    "print(a.replace(\"peter\",\"prince\"))"
   ]
  },
  {
   "cell_type": "code",
   "execution_count": 15,
   "id": "698efbd1",
   "metadata": {},
   "outputs": [
    {
     "data": {
      "text/plain": [
       "'peter is a prince'"
      ]
     },
     "execution_count": 15,
     "metadata": {},
     "output_type": "execute_result"
    }
   ],
   "source": [
    "# Removing leading whitespace characters from the string stored in variable a\n",
    "a= \"peter is a prince\"\n",
    "a='        peter is a prince'\n",
    "a.lstrip()"
   ]
  },
  {
   "cell_type": "code",
   "execution_count": 19,
   "id": "79682fb6",
   "metadata": {},
   "outputs": [
    {
     "data": {
      "text/plain": [
       "'CSK'"
      ]
     },
     "execution_count": 19,
     "metadata": {},
     "output_type": "execute_result"
    }
   ],
   "source": [
    "# Reassigning the variable a to the string \"prince\"\n",
    "a= \"peter is a prince\"\n",
    "a='        peter is a prince'\n",
    "a=('prince')\n",
    "# Replacing all occurrences of \"prince\" with \"CSK\" in the string stored in variable a\n",
    "a.replace('prince','CSK')"
   ]
  },
  {
   "cell_type": "markdown",
   "id": "872cf267",
   "metadata": {},
   "source": [
    "**SPLITTING STRING:**"
   ]
  },
  {
   "cell_type": "code",
   "execution_count": 23,
   "id": "13959ae7",
   "metadata": {},
   "outputs": [
    {
     "data": {
      "text/plain": [
       "'peter'"
      ]
     },
     "execution_count": 23,
     "metadata": {},
     "output_type": "execute_result"
    }
   ],
   "source": [
    "# Splitting the string stored in variable a into a list of words based on whitespace\n",
    "a=('peter')\n",
    "a.split()\n",
    "a"
   ]
  },
  {
   "cell_type": "markdown",
   "id": "182a60d0",
   "metadata": {},
   "source": [
    "# REGULAR EXPRESSIONS "
   ]
  },
  {
   "cell_type": "markdown",
   "id": "544daa33",
   "metadata": {},
   "source": [
    "**BASIC REGEXES:**"
   ]
  },
  {
   "cell_type": "markdown",
   "id": "c513f8a1",
   "metadata": {},
   "source": [
    "\"abc\" \n",
    "The simplest regexes simply match a particular substring. \n",
    "This is really a pattern, not a string!"
   ]
  },
  {
   "cell_type": "code",
   "execution_count": 24,
   "id": "9bf10121",
   "metadata": {},
   "outputs": [
    {
     "data": {
      "text/plain": [
       "['abc', 'abc', 'abc', 'abc', 'abc']"
      ]
     },
     "execution_count": 24,
     "metadata": {},
     "output_type": "execute_result"
    }
   ],
   "source": [
    "import regex as re\n",
    "def tokenize(text):\n",
    "    # Using the findall() function from the re module to find all occurrences of the pattern 'abc' in the input text\n",
    "    return re.findall(r'abc', text)\n",
    "# Calling the tokenize function with a sample text as input\n",
    "x = tokenize(\"abcd 45abc  abc%   abc.com  acbrx  .=.abc.=.   ab c  cba  ABC  \")\n",
    "x"
   ]
  },
  {
   "cell_type": "markdown",
   "id": "762f7109",
   "metadata": {},
   "source": [
    "**GROUPS AND RANGES:**"
   ]
  },
  {
   "cell_type": "code",
   "execution_count": 25,
   "id": "4ccfb44f",
   "metadata": {},
   "outputs": [
    {
     "data": {
      "text/plain": [
       "['gooey', 'moody', 'roody', 'goofy', 'loopy']"
      ]
     },
     "execution_count": 25,
     "metadata": {},
     "output_type": "execute_result"
    }
   ],
   "source": [
    "# Importing the regex module and aliasing it as re\n",
    "import regex as re\n",
    "def tokenize(text):\n",
    "    return re.findall(r'.oo.y', text)\n",
    "# Calling the tokenize function with a sample text as input\n",
    "x = tokenize(\" abcd gooey moody broody goofy gummy mooooudy loopy ooy \")\n",
    "x"
   ]
  },
  {
   "cell_type": "markdown",
   "id": "11ebd99f",
   "metadata": {},
   "source": [
    "**CAPTURING THE . :**"
   ]
  },
  {
   "cell_type": "code",
   "execution_count": 26,
   "id": "d5d04049",
   "metadata": {},
   "outputs": [
    {
     "data": {
      "text/plain": [
       "['abc.abc.com', 'abc.abc,com']"
      ]
     },
     "execution_count": 26,
     "metadata": {},
     "output_type": "execute_result"
    }
   ],
   "source": [
    "import regex as re\n",
    "def tokenize(text):\n",
    "    # Using the findall() function from the re module to find all occurrences of the pattern 'abc.abc.com' in the input text\n",
    "    return re.findall(r'abc\\.abc.com', text)\n",
    "# Calling the tokenize function with a sample text as input\n",
    "x = tokenize(\"abc.abc.com   abc.abc,com   abc,abc.com   ABC.abc.com \")\n",
    "x\n"
   ]
  },
  {
   "cell_type": "markdown",
   "id": "a24f2d59",
   "metadata": {},
   "source": [
    "**GROUPS AND RANGES:**"
   ]
  },
  {
   "cell_type": "code",
   "execution_count": 27,
   "id": "95169e49",
   "metadata": {},
   "outputs": [
    {
     "name": "stdout",
     "output_type": "stream",
     "text": [
      "['The']\n",
      "[]\n"
     ]
    }
   ],
   "source": [
    "import regex as re\n",
    "def tokenize(text):\n",
    "   # '^' matches the start of the string\n",
    "    # 'The' matches the literal characters 'The'\n",
    "    return re.findall(r'^The', text)\n",
    "# Calling the tokenize function with two different inputs\n",
    "x = tokenize(\"Them \")\n",
    "print(x)\n",
    "y= tokenize(\"them\")\n",
    "print(y)"
   ]
  },
  {
   "cell_type": "code",
   "execution_count": 28,
   "id": "31d426ed",
   "metadata": {},
   "outputs": [
    {
     "name": "stdout",
     "output_type": "stream",
     "text": [
      "['Bye']\n",
      "[]\n"
     ]
    }
   ],
   "source": [
    "import regex as re\n",
    "def tokenize(text):\n",
    "    # '$' matches the end of the string\n",
    "    # 'Bye' matches the literal characters 'Bye'return re.findall(r'Bye$', text)\n",
    "x = tokenize(\"They said goodBye\")\n",
    "print(x)\n",
    "y= tokenize(\"He said goodBye \")\n",
    "print(y)"
   ]
  },
  {
   "cell_type": "code",
   "execution_count": 29,
   "id": "0b2c7605",
   "metadata": {},
   "outputs": [
    {
     "name": "stdout",
     "output_type": "stream",
     "text": [
      "['abc', 'xyz', 'xyz']\n"
     ]
    }
   ],
   "source": [
    "import regex as re\n",
    "def tokenize(text):\n",
    "    # '|' matches either the pattern on its left (abc) or the pattern on its right (xyz)\n",
    "    return re.findall(r'abc|xyz', text)\n",
    "# Calling the tokenize function with a sample text as input\n",
    "x = tokenize(\"abcd xsdxyz xyz derf\")\n",
    "print(x)"
   ]
  },
  {
   "cell_type": "markdown",
   "id": "36747125",
   "metadata": {},
   "source": [
    "**CAPTURING THE ( ) :**"
   ]
  },
  {
   "cell_type": "code",
   "execution_count": 30,
   "id": "77c2ca24",
   "metadata": {},
   "outputs": [
    {
     "name": "stdout",
     "output_type": "stream",
     "text": [
      "['Homer Simpson', 'Marge Simpson']\n",
      "['Homer', 'Marge']\n"
     ]
    }
   ],
   "source": [
    "import regex as re\n",
    "def tokenize1(text):\n",
    "   # Using the findall() function from the re module to find all occurrences of the pattern 'Homer Simpson' or 'Marge Simpson' in the input text\n",
    "return re.findall(r'Homer Simpson|Marge Simpson', text)\n",
    "def tokenize2(text):\n",
    "    # Using the findall() function from the re module to find all occurrences of the pattern 'Homer Simpson' or 'Marge Simpson' in the input text, but capturing only 'Homer' or 'Marge'\n",
    "    return re.findall(r'(Homer|Marge) Simpson', text)\n",
    "x = tokenize1(\"Homer Williams Homer Simpson Marge Simpson\")\n",
    "print(x)\n",
    "x = tokenize2(\"Homer Williams Homer Simpson Marge Simpson\")\n",
    "print(x)"
   ]
  },
  {
   "cell_type": "code",
   "execution_count": 31,
   "id": "ede63f2f",
   "metadata": {},
   "outputs": [
    {
     "name": "stdout",
     "output_type": "stream",
     "text": [
      "['abc', 'ab', 'abcccc', 'ab', 'abcccccccc', 'ab']\n"
     ]
    }
   ],
   "source": [
    "import regex as re\n",
    "def tokenize(text):\n",
    "   # Using the findall() function from the re module to find all occurrences of the pattern 'abc*' in the input text\n",
    "    # 'abc*' matches 'abc' followed by zero or more occurrences of 'c' return re.findall(r'abc*', text)\n",
    "x = tokenize(\"abcd ab abcccc acb abbbbc abcccccccc fabulous\")\n",
    "print(x)"
   ]
  },
  {
   "cell_type": "code",
   "execution_count": null,
   "id": "28848bf6",
   "metadata": {},
   "outputs": [],
   "source": []
  }
 ],
 "metadata": {
  "kernelspec": {
   "display_name": "Python 3 (ipykernel)",
   "language": "python",
   "name": "python3"
  },
  "language_info": {
   "codemirror_mode": {
    "name": "ipython",
    "version": 3
   },
   "file_extension": ".py",
   "mimetype": "text/x-python",
   "name": "python",
   "nbconvert_exporter": "python",
   "pygments_lexer": "ipython3",
   "version": "3.11.5"
  }
 },
 "nbformat": 4,
 "nbformat_minor": 5
}
