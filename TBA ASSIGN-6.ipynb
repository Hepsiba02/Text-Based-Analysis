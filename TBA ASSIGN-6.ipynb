{
 "cells": [
  {
   "cell_type": "markdown",
   "id": "9408643f",
   "metadata": {},
   "source": [
    "**FOR ENGLISH TEXT-1:**"
   ]
  },
  {
   "cell_type": "markdown",
   "id": "75347e95",
   "metadata": {},
   "source": [
    "**IMPORTING THE MODULES:**"
   ]
  },
  {
   "cell_type": "code",
   "execution_count": 1,
   "id": "810f761e",
   "metadata": {},
   "outputs": [],
   "source": [
    "from nltk.corpus import stopwords #you can remove stop words for Speed\n",
    "from nltk.cluster.util import cosine_distance\n",
    "import numpy as np\n",
    "import networkx as nx"
   ]
  },
  {
   "cell_type": "markdown",
   "id": "6469a9ea",
   "metadata": {},
   "source": [
    "**SPLITTING INTO SENTENCES:**"
   ]
  },
  {
   "cell_type": "code",
   "execution_count": 2,
   "id": "85090054",
   "metadata": {},
   "outputs": [
    {
     "name": "stdout",
     "output_type": "stream",
     "text": [
      "ChatGPT, an AI designed to assist with a wide range of tasks\n",
      "My primary function is to understand and generate human-like text based on the prompts I receive\n",
      "I've been trained on a diverse dataset that includes books, articles, websites, and much more, allowing me to provide information, answer questions, generate creative content, and engage in conversations on a variety of topics\n",
      "Essentially, I'm here to help you with whatever you need.\n"
     ]
    }
   ],
   "source": [
    "file = open(\"TEXT-1.txt\", \"r\")\n",
    "#This file contains one paragraph of multiple sentences\n",
    "filedata = file.readlines()\n",
    "article = filedata[0].split(\". \") #Just do the first paragraph\n",
    "sentences = []\n",
    "for sentence in article:\n",
    "    print(sentence)\n",
    "    sentences.append(sentence.replace(\"[^a-zA-Z]\", \" \").split(\" \"))"
   ]
  },
  {
   "cell_type": "markdown",
   "id": "e12f8909",
   "metadata": {},
   "source": [
    "**PRINTING THE SENTENCES:**"
   ]
  },
  {
   "cell_type": "code",
   "execution_count": 3,
   "id": "b6949302",
   "metadata": {},
   "outputs": [
    {
     "name": "stdout",
     "output_type": "stream",
     "text": [
      "Sentences are  [['ChatGPT,', 'an', 'AI', 'designed', 'to', 'assist', 'with', 'a', 'wide', 'range', 'of', 'tasks'], ['My', 'primary', 'function', 'is', 'to', 'understand', 'and', 'generate', 'human-like', 'text', 'based', 'on', 'the', 'prompts', 'I', 'receive'], [\"I've\", 'been', 'trained', 'on', 'a', 'diverse', 'dataset', 'that', 'includes', 'books,', 'articles,', 'websites,', 'and', 'much', 'more,', 'allowing', 'me', 'to', 'provide', 'information,', 'answer', 'questions,', 'generate', 'creative', 'content,', 'and', 'engage', 'in', 'conversations', 'on', 'a', 'variety', 'of', 'topics'], ['Essentially,', \"I'm\", 'here', 'to', 'help', 'you', 'with', 'whatever', 'you', 'need.']]\n"
     ]
    }
   ],
   "source": [
    "print(\"Sentences are \", sentences)"
   ]
  },
  {
   "cell_type": "markdown",
   "id": "694936dc",
   "metadata": {},
   "source": [
    "**BUILDING THE VECTOR FOR SENT1&2:**"
   ]
  },
  {
   "cell_type": "code",
   "execution_count": 4,
   "id": "5402ecb9",
   "metadata": {},
   "outputs": [],
   "source": [
    "def sentence_similarity(sent1, sent2 ):\n",
    "    sent1 = [w.lower() for w in sent1]\n",
    "    sent2 = [w.lower() for w in sent2]\n",
    "    all_words = list(set(sent1 + sent2))\n",
    "    vector1 = [0] * len(all_words)\n",
    "    vector2 = [0] * len(all_words)\n",
    "   # build the vector for the first sentence\n",
    "    for w in sent1:\n",
    "        vector1[all_words.index(w)] += 1\n",
    "    # build the vector for the second sentence\n",
    "    for w in sent2:\n",
    "        vector2[all_words.index(w)] += 1\n",
    "    return 1 - cosine_distance(vector1, vector2)"
   ]
  },
  {
   "cell_type": "markdown",
   "id": "3d4a7f99",
   "metadata": {},
   "source": [
    "**SIMILARITY MATRIX:**"
   ]
  },
  {
   "cell_type": "code",
   "execution_count": 5,
   "id": "1ddbe68a",
   "metadata": {},
   "outputs": [
    {
     "name": "stdout",
     "output_type": "stream",
     "text": [
      "Smilarity matrix \n",
      " [[0.         0.07216878 0.18257419 0.16666667]\n",
      " [0.07216878 0.         0.23717082 0.07216878]\n",
      " [0.18257419 0.23717082 0.         0.04564355]\n",
      " [0.16666667 0.07216878 0.04564355 0.        ]]\n"
     ]
    }
   ],
   "source": [
    "similarity_matrix = np.zeros((len(sentences), len(sentences)))\n",
    "\n",
    "for idx1 in range(len(sentences)):\n",
    "        for idx2 in range(len(sentences)):\n",
    "             if idx1 == idx2: #ignore if both are same sentences\n",
    "                continue\n",
    "             similarity_matrix[idx1][idx2] = sentence_similarity(sentences[idx1],sentences[idx2])\n",
    "print(\"Smilarity matrix \\n\", similarity_matrix)"
   ]
  },
  {
   "cell_type": "markdown",
   "id": "26e2e454",
   "metadata": {},
   "source": [
    "**SCORES IN SIMILARITY MATRIX:**"
   ]
  },
  {
   "cell_type": "code",
   "execution_count": 6,
   "id": "b5685979",
   "metadata": {},
   "outputs": [
    {
     "name": "stdout",
     "output_type": "stream",
     "text": [
      "scores {0: 0.27016891494337747, 1: 0.2450355180000465, 2: 0.29267383593004126, 3: 0.1921217311265349}\n"
     ]
    }
   ],
   "source": [
    "# Step 3 - Rank sentences in similarity martix\n",
    "sentence_similarity_graph =nx.from_numpy_array(similarity_matrix)\n",
    "scores = nx.pagerank(sentence_similarity_graph)\n",
    "print(\"scores\", scores)"
   ]
  },
  {
   "cell_type": "markdown",
   "id": "c4e0e320",
   "metadata": {},
   "source": [
    "**TOP RANKED SENTENCES:**"
   ]
  },
  {
   "cell_type": "code",
   "execution_count": 7,
   "id": "d3b35c7b",
   "metadata": {},
   "outputs": [
    {
     "name": "stdout",
     "output_type": "stream",
     "text": [
      "Indexes of top ranked_sentence order are \n",
      "\n",
      " [(0.29267383593004126, [\"I've\", 'been', 'trained', 'on', 'a', 'diverse', 'dataset', 'that', 'includes', 'books,', 'articles,', 'websites,', 'and', 'much', 'more,', 'allowing', 'me', 'to', 'provide', 'information,', 'answer', 'questions,', 'generate', 'creative', 'content,', 'and', 'engage', 'in', 'conversations', 'on', 'a', 'variety', 'of', 'topics']), (0.27016891494337747, ['ChatGPT,', 'an', 'AI', 'designed', 'to', 'assist', 'with', 'a', 'wide', 'range', 'of', 'tasks']), (0.2450355180000465, ['My', 'primary', 'function', 'is', 'to', 'understand', 'and', 'generate', 'human-like', 'text', 'based', 'on', 'the', 'prompts', 'I', 'receive']), (0.1921217311265349, ['Essentially,', \"I'm\", 'here', 'to', 'help', 'you', 'with', 'whatever', 'you', 'need.'])]\n"
     ]
    }
   ],
   "source": [
    "# Step 4 - Sort the rank and pick top sentences\n",
    "ranked_sentence = sorted(((scores[i],s) for i,s in enumerate(sentences)), reverse=True)\n",
    "print(\"Indexes of top ranked_sentence order are \\n\\n\",ranked_sentence)"
   ]
  },
  {
   "cell_type": "markdown",
   "id": "00404405",
   "metadata": {},
   "source": [
    "**PICKING THREE SENTENCES:**"
   ]
  },
  {
   "cell_type": "code",
   "execution_count": 8,
   "id": "98c98a20",
   "metadata": {},
   "outputs": [
    {
     "name": "stdout",
     "output_type": "stream",
     "text": [
      "How many sentences do you want in the summary? 3\n"
     ]
    }
   ],
   "source": [
    "#Step 5 - How many sentences to pick\n",
    "n = int(input(\"How many sentences do you want in the summary? \"))\n",
    "#n=3\n",
    "summarize_text = []\n",
    "for i in range(n):\n",
    "    summarize_text.append(\" \".join(ranked_sentence[i][1]))"
   ]
  },
  {
   "cell_type": "markdown",
   "id": "f6b3be54",
   "metadata": {},
   "source": [
    "**SUMMERIZING THE TEXT:**"
   ]
  },
  {
   "cell_type": "code",
   "execution_count": 9,
   "id": "ced2621a",
   "metadata": {},
   "outputs": [
    {
     "name": "stdout",
     "output_type": "stream",
     "text": [
      "Summarize Text: \n",
      " I've been trained on a diverse dataset that includes books, articles, websites, and much more, allowing me to provide information, answer questions, generate creative content, and engage in conversations on a variety of topics. ChatGPT, an AI designed to assist with a wide range of tasks. My primary function is to understand and generate human-like text based on the prompts I receive\n"
     ]
    }
   ],
   "source": [
    "# Step 6 - Offcourse, output the summarize text\n",
    "print(\"Summarize Text: \\n\", \". \".join(summarize_text))"
   ]
  },
  {
   "cell_type": "markdown",
   "id": "0f70bfb0",
   "metadata": {},
   "source": [
    "**FOR TELUGU TEXT-2:**"
   ]
  },
  {
   "cell_type": "markdown",
   "id": "332c86c0",
   "metadata": {},
   "source": [
    "**IMPORTING THE MODULES:**"
   ]
  },
  {
   "cell_type": "code",
   "execution_count": 10,
   "id": "f829b61b",
   "metadata": {},
   "outputs": [],
   "source": [
    "from nltk.corpus import stopwords #you can remove stop words for Speed\n",
    "from nltk.cluster.util import cosine_distance\n",
    "import numpy as np\n",
    "import networkx as nx"
   ]
  },
  {
   "cell_type": "markdown",
   "id": "c37a6606",
   "metadata": {},
   "source": [
    "**SPLITTING INTO SENTENCES:**"
   ]
  },
  {
   "cell_type": "code",
   "execution_count": 11,
   "id": "ff01f119",
   "metadata": {},
   "outputs": [
    {
     "name": "stdout",
     "output_type": "stream",
     "text": [
      "ChatGPT, విస్తృత శ్రేణి పనులలో సహాయం చేయడానికి రూపొందించబడిన AI\n",
      "నేను స్వీకరించే ప్రాంప్ట్‌ల ఆధారంగా మనిషిని పోలిన వచనాన్ని అర్థం చేసుకోవడం మరియు రూపొందించడం నా ప్రాథమిక విధి\n",
      "పుస్తకాలు, కథనాలు, వెబ్‌సైట్‌లు మరియు మరిన్నింటిని కలిగి ఉన్న విభిన్న డేటాసెట్‌పై నేను శిక్షణ పొందాను, సమాచారాన్ని అందించడానికి, ప్రశ్నలకు సమాధానం ఇవ్వడానికి, సృజనాత్మక కంటెంట్‌ను రూపొందించడానికి మరియు విభిన్న అంశాలపై సంభాషణలలో పాల్గొనడానికి నన్ను అనుమతిస్తుంది\n",
      "ముఖ్యంగా, మీకు అవసరమైన వాటితో మీకు సహాయం చేయడానికి నేను ఇక్కడ ఉన్నాను.\n"
     ]
    }
   ],
   "source": [
    "file = open(\"TEXT-2.txt\", \"r\")\n",
    "#This file contains one paragraph of multiple sentences\n",
    "filedata = file.readlines()\n",
    "article = filedata[0].split(\". \") #Just do the first paragraph\n",
    "sentences = []\n",
    "for sentence in article:\n",
    "    print(sentence)\n",
    "    sentences.append(sentence.replace(\"[^a-zA-Z]\", \" \").split(\" \"))"
   ]
  },
  {
   "cell_type": "markdown",
   "id": "400a1b93",
   "metadata": {},
   "source": [
    "**PRINTING THE SENTENCES:**"
   ]
  },
  {
   "cell_type": "code",
   "execution_count": 12,
   "id": "f1d161a0",
   "metadata": {},
   "outputs": [
    {
     "name": "stdout",
     "output_type": "stream",
     "text": [
      "Sentences are  [['ChatGPT,', 'విస్తృత', 'శ్రేణి', 'పనులలో', 'సహాయం', 'చేయడానికి', 'రూపొందించబడిన', 'AI'], ['నేను', 'స్వీకరించే', 'ప్రాంప్ట్\\u200cల', 'ఆధారంగా', 'మనిషిని', 'పోలిన', 'వచనాన్ని', 'అర్థం', 'చేసుకోవడం', 'మరియు', 'రూపొందించడం', 'నా', 'ప్రాథమిక', 'విధి'], ['పుస్తకాలు,', 'కథనాలు,', 'వెబ్\\u200cసైట్\\u200cలు', 'మరియు', 'మరిన్నింటిని', 'కలిగి', 'ఉన్న', 'విభిన్న', 'డేటాసెట్\\u200cపై', 'నేను', 'శిక్షణ', 'పొందాను,', 'సమాచారాన్ని', 'అందించడానికి,', 'ప్రశ్నలకు', 'సమాధానం', 'ఇవ్వడానికి,', 'సృజనాత్మక', 'కంటెంట్\\u200cను', 'రూపొందించడానికి', 'మరియు', 'విభిన్న', 'అంశాలపై', 'సంభాషణలలో', 'పాల్గొనడానికి', 'నన్ను', 'అనుమతిస్తుంది'], ['ముఖ్యంగా,', 'మీకు', 'అవసరమైన', 'వాటితో', 'మీకు', 'సహాయం', 'చేయడానికి', 'నేను', 'ఇక్కడ', 'ఉన్నాను.']]\n"
     ]
    }
   ],
   "source": [
    "print(\"Sentences are \", sentences)"
   ]
  },
  {
   "cell_type": "markdown",
   "id": "09f365c5",
   "metadata": {},
   "source": [
    "**BUILDING THE VECTOR FOR SENT1&2:**"
   ]
  },
  {
   "cell_type": "code",
   "execution_count": 13,
   "id": "5a4fa1a3",
   "metadata": {},
   "outputs": [],
   "source": [
    "def sentence_similarity(sent1, sent2 ):\n",
    "    sent1 = [w.lower() for w in sent1]\n",
    "    sent2 = [w.lower() for w in sent2]\n",
    "    all_words = list(set(sent1 + sent2))\n",
    "    vector1 = [0] * len(all_words)\n",
    "    vector2 = [0] * len(all_words)\n",
    "   # build the vector for the first sentence\n",
    "    for w in sent1:\n",
    "        vector1[all_words.index(w)] += 1\n",
    "    # build the vector for the second sentence\n",
    "    for w in sent2:\n",
    "        vector2[all_words.index(w)] += 1\n",
    "    return 1 - cosine_distance(vector1, vector2)"
   ]
  },
  {
   "cell_type": "markdown",
   "id": "b3226ce6",
   "metadata": {},
   "source": [
    "**SIMILARITY MATRIX:**"
   ]
  },
  {
   "cell_type": "code",
   "execution_count": 14,
   "id": "e9e20d71",
   "metadata": {},
   "outputs": [
    {
     "name": "stdout",
     "output_type": "stream",
     "text": [
      "Smilarity matrix \n",
      " [[0.         0.         0.         0.20412415]\n",
      " [0.         0.         0.14400461 0.07715167]\n",
      " [0.         0.14400461 0.         0.05184758]\n",
      " [0.20412415 0.07715167 0.05184758 0.        ]]\n"
     ]
    }
   ],
   "source": [
    "similarity_matrix = np.zeros((len(sentences), len(sentences)))\n",
    "\n",
    "for idx1 in range(len(sentences)):\n",
    "        for idx2 in range(len(sentences)):\n",
    "             if idx1 == idx2: #ignore if both are same sentences\n",
    "                continue\n",
    "             similarity_matrix[idx1][idx2] = sentence_similarity(sentences[idx1],sentences[idx2])\n",
    "print(\"Smilarity matrix \\n\", similarity_matrix)"
   ]
  },
  {
   "cell_type": "markdown",
   "id": "66345d85",
   "metadata": {},
   "source": [
    "**SCORES IN SIMILARITY MATRIX:**"
   ]
  },
  {
   "cell_type": "code",
   "execution_count": 15,
   "id": "8ad2709d",
   "metadata": {
    "scrolled": true
   },
   "outputs": [
    {
     "name": "stdout",
     "output_type": "stream",
     "text": [
      "scores {0: 0.21289610177103374, 1: 0.23708278321290502, 2: 0.2132691888774271, 3: 0.33675192613863414}\n"
     ]
    }
   ],
   "source": [
    "# Step 3 - Rank sentences in similarity martix\n",
    "sentence_similarity_graph =nx.from_numpy_array(similarity_matrix)\n",
    "scores = nx.pagerank(sentence_similarity_graph)\n",
    "print(\"scores\", scores)"
   ]
  },
  {
   "cell_type": "markdown",
   "id": "d9eaa79f",
   "metadata": {},
   "source": [
    "**TOP RANKED SENTENCES:**"
   ]
  },
  {
   "cell_type": "code",
   "execution_count": 16,
   "id": "3b8f3d9c",
   "metadata": {
    "scrolled": true
   },
   "outputs": [
    {
     "name": "stdout",
     "output_type": "stream",
     "text": [
      "Indexes of top ranked_sentence order are \n",
      "\n",
      " [(0.33675192613863414, ['ముఖ్యంగా,', 'మీకు', 'అవసరమైన', 'వాటితో', 'మీకు', 'సహాయం', 'చేయడానికి', 'నేను', 'ఇక్కడ', 'ఉన్నాను.']), (0.23708278321290502, ['నేను', 'స్వీకరించే', 'ప్రాంప్ట్\\u200cల', 'ఆధారంగా', 'మనిషిని', 'పోలిన', 'వచనాన్ని', 'అర్థం', 'చేసుకోవడం', 'మరియు', 'రూపొందించడం', 'నా', 'ప్రాథమిక', 'విధి']), (0.2132691888774271, ['పుస్తకాలు,', 'కథనాలు,', 'వెబ్\\u200cసైట్\\u200cలు', 'మరియు', 'మరిన్నింటిని', 'కలిగి', 'ఉన్న', 'విభిన్న', 'డేటాసెట్\\u200cపై', 'నేను', 'శిక్షణ', 'పొందాను,', 'సమాచారాన్ని', 'అందించడానికి,', 'ప్రశ్నలకు', 'సమాధానం', 'ఇవ్వడానికి,', 'సృజనాత్మక', 'కంటెంట్\\u200cను', 'రూపొందించడానికి', 'మరియు', 'విభిన్న', 'అంశాలపై', 'సంభాషణలలో', 'పాల్గొనడానికి', 'నన్ను', 'అనుమతిస్తుంది']), (0.21289610177103374, ['ChatGPT,', 'విస్తృత', 'శ్రేణి', 'పనులలో', 'సహాయం', 'చేయడానికి', 'రూపొందించబడిన', 'AI'])]\n"
     ]
    }
   ],
   "source": [
    "# Step 4 - Sort the rank and pick top sentences\n",
    "ranked_sentence = sorted(((scores[i],s) for i,s in enumerate(sentences)), reverse=True)\n",
    "print(\"Indexes of top ranked_sentence order are \\n\\n\",ranked_sentence)"
   ]
  },
  {
   "cell_type": "markdown",
   "id": "dcd6211d",
   "metadata": {},
   "source": [
    "**PICKING THREE SENTENCES:**"
   ]
  },
  {
   "cell_type": "code",
   "execution_count": 17,
   "id": "344ec7fa",
   "metadata": {},
   "outputs": [
    {
     "name": "stdout",
     "output_type": "stream",
     "text": [
      "How many sentences do you want in the summary? 3\n"
     ]
    }
   ],
   "source": [
    "#Step 5 - How many sentences to pick\n",
    "n = int(input(\"How many sentences do you want in the summary? \"))\n",
    "#n=3\n",
    "summarize_text = []\n",
    "for i in range(n):\n",
    "    summarize_text.append(\" \".join(ranked_sentence[i][1]))"
   ]
  },
  {
   "cell_type": "markdown",
   "id": "c7775f7b",
   "metadata": {},
   "source": [
    "**SUMMERIZING THE TEXT:**"
   ]
  },
  {
   "cell_type": "code",
   "execution_count": 18,
   "id": "0e107c51",
   "metadata": {},
   "outputs": [
    {
     "name": "stdout",
     "output_type": "stream",
     "text": [
      "Summarize Text: \n",
      " ముఖ్యంగా, మీకు అవసరమైన వాటితో మీకు సహాయం చేయడానికి నేను ఇక్కడ ఉన్నాను.. నేను స్వీకరించే ప్రాంప్ట్‌ల ఆధారంగా మనిషిని పోలిన వచనాన్ని అర్థం చేసుకోవడం మరియు రూపొందించడం నా ప్రాథమిక విధి. పుస్తకాలు, కథనాలు, వెబ్‌సైట్‌లు మరియు మరిన్నింటిని కలిగి ఉన్న విభిన్న డేటాసెట్‌పై నేను శిక్షణ పొందాను, సమాచారాన్ని అందించడానికి, ప్రశ్నలకు సమాధానం ఇవ్వడానికి, సృజనాత్మక కంటెంట్‌ను రూపొందించడానికి మరియు విభిన్న అంశాలపై సంభాషణలలో పాల్గొనడానికి నన్ను అనుమతిస్తుంది\n"
     ]
    }
   ],
   "source": [
    "# Step 6 - Offcourse, output the summarize text\n",
    "print(\"Summarize Text: \\n\", \". \".join(summarize_text))"
   ]
  },
  {
   "cell_type": "markdown",
   "id": "9ed2d78b",
   "metadata": {},
   "source": [
    "**FOR HINDI TEXT-3:**"
   ]
  },
  {
   "cell_type": "markdown",
   "id": "409939ab",
   "metadata": {},
   "source": [
    "**IMPORTING THE MODULES:**"
   ]
  },
  {
   "cell_type": "code",
   "execution_count": 19,
   "id": "f04878d5",
   "metadata": {},
   "outputs": [],
   "source": [
    "from nltk.corpus import stopwords #you can remove stop words for Speed\n",
    "from nltk.cluster.util import cosine_distance\n",
    "import numpy as np\n",
    "import networkx as nx"
   ]
  },
  {
   "cell_type": "markdown",
   "id": "bcea3b31",
   "metadata": {},
   "source": [
    "**SPLITTING INTO SENTENCES:**"
   ]
  },
  {
   "cell_type": "code",
   "execution_count": 20,
   "id": "6ee655a9",
   "metadata": {},
   "outputs": [
    {
     "name": "stdout",
     "output_type": "stream",
     "text": [
      "चैटजीपीटी, एक एआई जिसे कई प्रकार के कार्यों में सहायता के लिए डिज़ाइन किया गया है। मेरा प्राथमिक कार्य मुझे प्राप्त संकेतों के आधार पर मानव-सदृश पाठ को समझना और उत्पन्न करना है। मुझे एक विविध डेटासेट पर प्रशिक्षित किया गया है जिसमें किताबें, लेख, वेबसाइटें और बहुत कुछ शामिल है, जो मुझे जानकारी प्रदान करने, सवालों के जवाब देने, रचनात्मक सामग्री तैयार करने और विभिन्न विषयों पर बातचीत में शामिल होने की अनुमति देता है। मूलतः, मैं आपकी हर जरूरत में मदद करने के लिए यहां हूं।\n"
     ]
    }
   ],
   "source": [
    "file = open(\"TEXT-3.txt\", \"r\")\n",
    "#This file contains one paragraph of multiple sentences\n",
    "filedata = file.readlines()\n",
    "article = filedata[0].split(\". \") #Just do the first paragraph\n",
    "sentences = []\n",
    "for sentence in article:\n",
    "    print(sentence)\n",
    "    sentences.append(sentence.replace(\"[^a-zA-Z]\", \" \").split(\" \"))"
   ]
  },
  {
   "cell_type": "markdown",
   "id": "8565b542",
   "metadata": {},
   "source": [
    "**PRINTING THE SENTENCES:**"
   ]
  },
  {
   "cell_type": "code",
   "execution_count": 21,
   "id": "aaf2b5d3",
   "metadata": {},
   "outputs": [
    {
     "name": "stdout",
     "output_type": "stream",
     "text": [
      "Sentences are  [['चैटजीपीटी,', 'एक', 'एआई', 'जिसे', 'कई', 'प्रकार', 'के', 'कार्यों', 'में', 'सहायता', 'के', 'लिए', 'डिज़ाइन', 'किया', 'गया', 'है।', 'मेरा', 'प्राथमिक', 'कार्य', 'मुझे', 'प्राप्त', 'संकेतों', 'के', 'आधार', 'पर', 'मानव-सदृश', 'पाठ', 'को', 'समझना', 'और', 'उत्पन्न', 'करना', 'है।', 'मुझे', 'एक', 'विविध', 'डेटासेट', 'पर', 'प्रशिक्षित', 'किया', 'गया', 'है', 'जिसमें', 'किताबें,', 'लेख,', 'वेबसाइटें', 'और', 'बहुत', 'कुछ', 'शामिल', 'है,', 'जो', 'मुझे', 'जानकारी', 'प्रदान', 'करने,', 'सवालों', 'के', 'जवाब', 'देने,', 'रचनात्मक', 'सामग्री', 'तैयार', 'करने', 'और', 'विभिन्न', 'विषयों', 'पर', 'बातचीत', 'में', 'शामिल', 'होने', 'की', 'अनुमति', 'देता', 'है।', 'मूलतः,', 'मैं', 'आपकी', 'हर', 'जरूरत', 'में', 'मदद', 'करने', 'के', 'लिए', 'यहां', 'हूं।']]\n"
     ]
    }
   ],
   "source": [
    "print(\"Sentences are \", sentences)"
   ]
  },
  {
   "cell_type": "markdown",
   "id": "c5647c22",
   "metadata": {},
   "source": [
    "**BUILDING THE VECTOR OF SENT1&2:**"
   ]
  },
  {
   "cell_type": "code",
   "execution_count": 22,
   "id": "9e3957f3",
   "metadata": {},
   "outputs": [],
   "source": [
    "def sentence_similarity(sent1, sent2 ):\n",
    "    sent1 = [w.lower() for w in sent1]\n",
    "    sent2 = [w.lower() for w in sent2]\n",
    "    all_words = list(set(sent1 + sent2))\n",
    "    vector1 = [0] * len(all_words)\n",
    "    vector2 = [0] * len(all_words)\n",
    "   # build the vector for the first sentence\n",
    "    for w in sent1:\n",
    "        vector1[all_words.index(w)] += 1\n",
    "    # build the vector for the second sentence\n",
    "    for w in sent2:\n",
    "        vector2[all_words.index(w)] += 1\n",
    "    return 1 - cosine_distance(vector1, vector2)"
   ]
  },
  {
   "cell_type": "markdown",
   "id": "23d4010b",
   "metadata": {},
   "source": [
    "**SIMILARITY MATRIX:**"
   ]
  },
  {
   "cell_type": "code",
   "execution_count": 23,
   "id": "7219ef38",
   "metadata": {},
   "outputs": [
    {
     "name": "stdout",
     "output_type": "stream",
     "text": [
      "Smilarity matrix \n",
      " [[0.]]\n"
     ]
    }
   ],
   "source": [
    "similarity_matrix = np.zeros((len(sentences), len(sentences)))\n",
    "\n",
    "for idx1 in range(len(sentences)):\n",
    "        for idx2 in range(len(sentences)):\n",
    "             if idx1 == idx2: #ignore if both are same sentences\n",
    "                continue\n",
    "             similarity_matrix[idx1][idx2] = sentence_similarity(sentences[idx1],sentences[idx2])\n",
    "print(\"Smilarity matrix \\n\", similarity_matrix)"
   ]
  },
  {
   "cell_type": "markdown",
   "id": "066b2ec5",
   "metadata": {},
   "source": [
    "**SCORES IN SIMILARITY MATRIX:**"
   ]
  },
  {
   "cell_type": "code",
   "execution_count": 24,
   "id": "467cb8d2",
   "metadata": {},
   "outputs": [
    {
     "name": "stdout",
     "output_type": "stream",
     "text": [
      "scores {0: 1.0}\n"
     ]
    }
   ],
   "source": [
    "# Step 3 - Rank sentences in similarity martix\n",
    "sentence_similarity_graph =nx.from_numpy_array(similarity_matrix)\n",
    "scores = nx.pagerank(sentence_similarity_graph)\n",
    "print(\"scores\", scores)"
   ]
  },
  {
   "cell_type": "markdown",
   "id": "899004f8",
   "metadata": {},
   "source": [
    "**TOP RANKED SENTENCES:**"
   ]
  },
  {
   "cell_type": "code",
   "execution_count": 25,
   "id": "f12b4aef",
   "metadata": {},
   "outputs": [
    {
     "name": "stdout",
     "output_type": "stream",
     "text": [
      "Indexes of top ranked_sentence order are \n",
      "\n",
      " [(1.0, ['चैटजीपीटी,', 'एक', 'एआई', 'जिसे', 'कई', 'प्रकार', 'के', 'कार्यों', 'में', 'सहायता', 'के', 'लिए', 'डिज़ाइन', 'किया', 'गया', 'है।', 'मेरा', 'प्राथमिक', 'कार्य', 'मुझे', 'प्राप्त', 'संकेतों', 'के', 'आधार', 'पर', 'मानव-सदृश', 'पाठ', 'को', 'समझना', 'और', 'उत्पन्न', 'करना', 'है।', 'मुझे', 'एक', 'विविध', 'डेटासेट', 'पर', 'प्रशिक्षित', 'किया', 'गया', 'है', 'जिसमें', 'किताबें,', 'लेख,', 'वेबसाइटें', 'और', 'बहुत', 'कुछ', 'शामिल', 'है,', 'जो', 'मुझे', 'जानकारी', 'प्रदान', 'करने,', 'सवालों', 'के', 'जवाब', 'देने,', 'रचनात्मक', 'सामग्री', 'तैयार', 'करने', 'और', 'विभिन्न', 'विषयों', 'पर', 'बातचीत', 'में', 'शामिल', 'होने', 'की', 'अनुमति', 'देता', 'है।', 'मूलतः,', 'मैं', 'आपकी', 'हर', 'जरूरत', 'में', 'मदद', 'करने', 'के', 'लिए', 'यहां', 'हूं।'])]\n"
     ]
    }
   ],
   "source": [
    "# Step 4 - Sort the rank and pick top sentences\n",
    "ranked_sentence = sorted(((scores[i],s) for i,s in enumerate(sentences)), reverse=True)\n",
    "print(\"Indexes of top ranked_sentence order are \\n\\n\",ranked_sentence)"
   ]
  },
  {
   "cell_type": "markdown",
   "id": "c0c2f074",
   "metadata": {},
   "source": [
    "**PICKKING ONE SENTENCE:**"
   ]
  },
  {
   "cell_type": "code",
   "execution_count": 30,
   "id": "19de0724",
   "metadata": {},
   "outputs": [
    {
     "name": "stdout",
     "output_type": "stream",
     "text": [
      "How many sentences do you want in the summary? 1\n"
     ]
    }
   ],
   "source": [
    "#Step 5 - How many sentences to pick\n",
    "n = int(input(\"How many sentences do you want in the summary? \"))\n",
    "#n=1\n",
    "summarize_text = []\n",
    "for i in range(n):\n",
    "    summarize_text.append(\" \".join(ranked_sentence[i][1]))"
   ]
  },
  {
   "cell_type": "markdown",
   "id": "c83fc114",
   "metadata": {},
   "source": [
    "**SUMMERIZING THE TEXT:**"
   ]
  },
  {
   "cell_type": "code",
   "execution_count": 31,
   "id": "ca29c42a",
   "metadata": {},
   "outputs": [
    {
     "name": "stdout",
     "output_type": "stream",
     "text": [
      "Summarize Text: \n",
      " चैटजीपीटी, एक एआई जिसे कई प्रकार के कार्यों में सहायता के लिए डिज़ाइन किया गया है। मेरा प्राथमिक कार्य मुझे प्राप्त संकेतों के आधार पर मानव-सदृश पाठ को समझना और उत्पन्न करना है। मुझे एक विविध डेटासेट पर प्रशिक्षित किया गया है जिसमें किताबें, लेख, वेबसाइटें और बहुत कुछ शामिल है, जो मुझे जानकारी प्रदान करने, सवालों के जवाब देने, रचनात्मक सामग्री तैयार करने और विभिन्न विषयों पर बातचीत में शामिल होने की अनुमति देता है। मूलतः, मैं आपकी हर जरूरत में मदद करने के लिए यहां हूं।\n"
     ]
    }
   ],
   "source": [
    "# Step 6 - Offcourse, output the summarize text\n",
    "print(\"Summarize Text: \\n\", \". \".join(summarize_text))"
   ]
  },
  {
   "cell_type": "code",
   "execution_count": null,
   "id": "6e900506",
   "metadata": {},
   "outputs": [],
   "source": []
  }
 ],
 "metadata": {
  "kernelspec": {
   "display_name": "Python 3 (ipykernel)",
   "language": "python",
   "name": "python3"
  },
  "language_info": {
   "codemirror_mode": {
    "name": "ipython",
    "version": 3
   },
   "file_extension": ".py",
   "mimetype": "text/x-python",
   "name": "python",
   "nbconvert_exporter": "python",
   "pygments_lexer": "ipython3",
   "version": "3.11.5"
  }
 },
 "nbformat": 4,
 "nbformat_minor": 5
}
