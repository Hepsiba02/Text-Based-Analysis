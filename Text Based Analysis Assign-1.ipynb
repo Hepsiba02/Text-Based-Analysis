{
 "cells": [
  {
   "cell_type": "markdown",
   "id": "55369c44",
   "metadata": {},
   "source": [
    "# String operations"
   ]
  },
  {
   "cell_type": "markdown",
   "id": "75b407ea",
   "metadata": {},
   "source": [
    "lstrip() Method:"
   ]
  },
  {
   "cell_type": "code",
   "execution_count": 30,
   "id": "f06b1070",
   "metadata": {},
   "outputs": [
    {
     "name": "stdout",
     "output_type": "stream",
     "text": [
      "Original:    Hello, World!   \n",
      "After lstrip(): Hello, World!   \n",
      "After lstrip(' H'): ello, World!   \n"
     ]
    }
   ],
   "source": [
    "# lstrip() - Removes leading whitespace or specified characters from the left side of a string\n",
    "text = \"   Hello, World!   \"\n",
    "print(\"Original:\", text)\n",
    "print(\"After lstrip():\", text.lstrip())  # Removes leading whitespace\n",
    "print(\"After lstrip(' H'):\", text.lstrip(' H'))  # Removes leading whitespace and 'H'"
   ]
  },
  {
   "cell_type": "markdown",
   "id": "6341a0b9",
   "metadata": {},
   "source": [
    "Description: \n",
    "    lstrip(): This method removes leading whitespace (spaces, tabs, etc.) from the left side of a string. In your example, \" Hello, World! \" has leading whitespace before the actual text, and lstrip() removes it, resulting in \"Hello, World! \"."
   ]
  },
  {
   "cell_type": "markdown",
   "id": "b150434c",
   "metadata": {},
   "source": [
    "REPETITION:"
   ]
  },
  {
   "cell_type": "code",
   "execution_count": 31,
   "id": "cb4617b8",
   "metadata": {},
   "outputs": [
    {
     "name": "stdout",
     "output_type": "stream",
     "text": [
      "Repeated: HelloHelloHello\n"
     ]
    }
   ],
   "source": [
    "# repetition (*) - Repeats a string a specified number of times\n",
    "s = \"Hello\"\n",
    "print(\"Repeated:\", s * 3)"
   ]
  },
  {
   "cell_type": "markdown",
   "id": "fec05c08",
   "metadata": {},
   "source": [
    "Description:\n",
    "    Repetition (*): This operation repeats a string a specified number of times. In your example, \"Hello\" is repeated three times using the * operator, resulting in \"HelloHelloHello\"."
   ]
  },
  {
   "cell_type": "markdown",
   "id": "96ec5830",
   "metadata": {},
   "source": [
    "FINDING SUBSTRING:"
   ]
  },
  {
   "cell_type": "code",
   "execution_count": 3,
   "id": "98149b7a",
   "metadata": {},
   "outputs": [
    {
     "name": "stdout",
     "output_type": "stream",
     "text": [
      "Index of 'World': 7\n"
     ]
    }
   ],
   "source": [
    "# find(substring) - Returns the lowest index of the substring if found in the string\n",
    "text = \"Hello, World!\"\n",
    "substring = \"World\"\n",
    "print(\"Index of 'World':\", text.find(substring))\n"
   ]
  },
  {
   "cell_type": "markdown",
   "id": "ceb69efb",
   "metadata": {},
   "source": [
    "Description:\n",
    "    find(substring): This method returns the lowest index of the substring if it is found in the string. If the substring is not found, it returns -1. In your example, \"World\" is searched within the string \"Hello, World!\", and the method returns the index where \"World\" starts, which is 7.\n"
   ]
  },
  {
   "cell_type": "markdown",
   "id": "a749b78d",
   "metadata": {},
   "source": [
    "SPLITTING STRING INTO TOKENS:"
   ]
  },
  {
   "cell_type": "code",
   "execution_count": 4,
   "id": "e7f09dbd",
   "metadata": {},
   "outputs": [
    {
     "name": "stdout",
     "output_type": "stream",
     "text": [
      "Tokens: ['Hello', 'World!']\n"
     ]
    }
   ],
   "source": [
    "# string tokens - Splitting a string into tokens based on a delimiter\n",
    "text = \"Hello, World!\"\n",
    "tokens = text.split(', ')\n",
    "print(\"Tokens:\", tokens)"
   ]
  },
  {
   "cell_type": "markdown",
   "id": "ec7ec824",
   "metadata": {},
   "source": [
    "Description:\n",
    "    String Tokens: String tokenization is the process of splitting a string into tokens based on a specified delimiter. In your example, the string \"Hello, World!\" is split into tokens using ', ' as the delimiter, resulting in the tokens ['Hello', 'World!']."
   ]
  },
  {
   "cell_type": "markdown",
   "id": "877bc3fa",
   "metadata": {},
   "source": [
    "isalnum() CHECKING ALPHANUMERIC:"
   ]
  },
  {
   "cell_type": "code",
   "execution_count": 5,
   "id": "2df7c36a",
   "metadata": {},
   "outputs": [
    {
     "name": "stdout",
     "output_type": "stream",
     "text": [
      "Is alphanumeric: True\n"
     ]
    }
   ],
   "source": [
    "# isalnum() - Checks if all characters in the string are alphanumeric (letters or numbers)\n",
    "s = \"Hello123\"\n",
    "print(\"Is alphanumeric:\", s.isalnum())\n"
   ]
  },
  {
   "cell_type": "markdown",
   "id": "4442ef76",
   "metadata": {},
   "source": [
    "Description:\n",
    "    isalnum(): This method checks whether all characters in a string are alphanumeric, meaning they are either letters or numbers. In your example, the string \"Hello123\" contains only alphanumeric characters, so isalnum() returns True.\n"
   ]
  },
  {
   "cell_type": "markdown",
   "id": "5424b81e",
   "metadata": {},
   "source": [
    "TITLE:"
   ]
  },
  {
   "cell_type": "code",
   "execution_count": 10,
   "id": "314841d1",
   "metadata": {},
   "outputs": [
    {
     "name": "stdout",
     "output_type": "stream",
     "text": [
      "Title: Hello World\n"
     ]
    }
   ],
   "source": [
    "# title() - Converts the first character of each word in a string to uppercase and the rest to lowercase\n",
    "s = \"hello world\"\n",
    "print(\"Title:\", s.title())"
   ]
  },
  {
   "cell_type": "markdown",
   "id": "e566cc0f",
   "metadata": {},
   "source": [
    "Description:\n",
    "    title(): The title() method converts the first character of each word in a string to uppercase and the rest to lowercase. In your example, the string \"hello world\" becomes \"Hello World\" after applying the title() method.\n"
   ]
  },
  {
   "cell_type": "markdown",
   "id": "b32ca411",
   "metadata": {},
   "source": [
    "SPLITTING THE SENTENCE:"
   ]
  },
  {
   "cell_type": "code",
   "execution_count": 24,
   "id": "af0bd62c",
   "metadata": {},
   "outputs": [
    {
     "name": "stdout",
     "output_type": "stream",
     "text": [
      "['The', 'cat', 'is', 'on', 'the', 'mat']\n"
     ]
    }
   ],
   "source": [
    "#sentence split()\n",
    "sentence = \"The cat is on the mat\"\n",
    "words = sentence.split()\n",
    "print(words)\n"
   ]
  },
  {
   "cell_type": "markdown",
   "id": "f5f71585",
   "metadata": {},
   "source": [
    "Description:\n",
    "    sentence split(): The split() method in Python splits a string into a list of substrings based on a specified delimiter. By default, it splits the string based on whitespace characters. In your example, the sentence \"The cat is on the mat\" is split into individual words, and the result is stored in the list words."
   ]
  },
  {
   "cell_type": "markdown",
   "id": "a528d630",
   "metadata": {},
   "source": [
    "EXTRACTING A SUBSTRING:"
   ]
  },
  {
   "cell_type": "code",
   "execution_count": 12,
   "id": "4cc9a687",
   "metadata": {},
   "outputs": [
    {
     "name": "stdout",
     "output_type": "stream",
     "text": [
      "Substring: World\n"
     ]
    }
   ],
   "source": [
    "# Extracting a substring using slicing\n",
    "text = \"Hello, World!\"\n",
    "\n",
    "# Extract substring from index 7 to 12 (exclusive)\n",
    "substring = text[7:12]\n",
    "print(\"Substring:\", substring)  # Output: \"World\"\n"
   ]
  },
  {
   "cell_type": "markdown",
   "id": "99a5484d",
   "metadata": {},
   "source": [
    "Description:\n",
    "    Extracting a substring using slicing: In Python, you can use slicing to extract a portion of a string. The syntax for slicing is string[start_index:end_index], where start_index is the index where the slice starts (inclusive), and end_index is the index where the slice ends (exclusive). In your example, the substring \"World\" is extracted from the original string \"Hello, World!\" by slicing from index 7 to 12 (exclusive).\n",
    "\n",
    "    "
   ]
  },
  {
   "cell_type": "markdown",
   "id": "cf3c644a",
   "metadata": {},
   "source": [
    "CAPITALIZE TEXT: "
   ]
  },
  {
   "cell_type": "code",
   "execution_count": 13,
   "id": "01e222fe",
   "metadata": {},
   "outputs": [
    {
     "name": "stdout",
     "output_type": "stream",
     "text": [
      "Original Text: hello, world!\n",
      "Capitalized Text: Hello, world!\n"
     ]
    }
   ],
   "source": [
    "# Using capitalize() method\n",
    "text = \"hello, world!\"\n",
    "\n",
    "# Convert the first character to uppercase and the rest to lowercase\n",
    "capitalized_text = text.capitalize()\n",
    "\n",
    "print(\"Original Text:\", text)\n",
    "print(\"Capitalized Text:\", capitalized_text)\n"
   ]
  },
  {
   "cell_type": "markdown",
   "id": "3edc7a2e",
   "metadata": {},
   "source": [
    "Description:\n",
    "    capitalize() method: The capitalize() method is used to capitalize the first character of a string and convert the remaining characters to lowercase. In your example, the original text \"hello, world!\" is transformed to \"Hello, world!\" where the first character 'h' is capitalized, and the rest of the characters are unchanged.\n"
   ]
  },
  {
   "cell_type": "markdown",
   "id": "640c49b4",
   "metadata": {},
   "source": [
    "# Regular Expressions(Regex)"
   ]
  },
  {
   "cell_type": "markdown",
   "id": "cb0d3344",
   "metadata": {},
   "source": [
    "EXTRACTING PHONE NUMBERS:"
   ]
  },
  {
   "cell_type": "code",
   "execution_count": 14,
   "id": "7aec37f8",
   "metadata": {},
   "outputs": [
    {
     "name": "stdout",
     "output_type": "stream",
     "text": [
      "['555-987-6543']\n"
     ]
    }
   ],
   "source": [
    "#Matching phone numbers: Extracting phone numbers from a text using regex.\n",
    "\n",
    "import re\n",
    "\n",
    "text = \"Contact us at +1 (555) 123-4567 or 555-987-6543.\"\n",
    "phone_numbers = re.findall(r'\\b\\d{3}[-.]?\\d{3}[-.]?\\d{4}\\b', text)\n",
    "print(phone_numbers)\n"
   ]
  },
  {
   "cell_type": "markdown",
   "id": "b78c381e",
   "metadata": {},
   "source": [
    "Description:\n",
    "    Regular Expression Pattern: \\b\\d{3}[-.]?\\d{3}[-.]?\\d{4}\\b\n",
    "\n",
    "\\b: Matches word boundary to ensure that the phone number is not part of a larger word.\n",
    "\\d{3}: Matches exactly three digits.\n",
    "[-.]?: Matches an optional hyphen - or period ..\n",
    "\\d{3}: Matches exactly three digits.\n",
    "[-.]?: Matches an optional hyphen - or period ..\n",
    "\\d{4}: Matches exactly four digits.\n",
    "\\b: Matches word boundary to ensure that the phone number is not part of a larger word.\n",
    "re.findall(): This function searches the given text (text) for all occurrences of the regular expression pattern and returns a list of all matches found."
   ]
  },
  {
   "cell_type": "markdown",
   "id": "7b1f3181",
   "metadata": {},
   "source": [
    "EXTRACTING URLs:"
   ]
  },
  {
   "cell_type": "code",
   "execution_count": 26,
   "id": "208415ac",
   "metadata": {},
   "outputs": [
    {
     "name": "stdout",
     "output_type": "stream",
     "text": [
      "['https://www.google.com', 'http://google.org']\n"
     ]
    }
   ],
   "source": [
    "#Matching URLs: Extracting URLs from a text using regex.\n",
    "\n",
    "import re\n",
    "\n",
    "text = \"Visit our website at https://www.google.com or http://google.org\"\n",
    "urls = re.findall(r'https?://\\S+', text)\n",
    "print(urls)\n"
   ]
  },
  {
   "cell_type": "markdown",
   "id": "16e9f2bf",
   "metadata": {},
   "source": [
    "Description:\n",
    "    Regular Expression Pattern: https?://\\S+\n",
    "\n",
    "https?: Matches http followed by an optional s (for https).\n",
    "://: Matches the colon and two forward slashes that typically appear in URLs.\n",
    "\\S+: Matches one or more non-whitespace characters, representing the rest of the URL.\n",
    "re.findall(): This function searches the given text (text) for all occurrences of the regular expression pattern and returns a list of all matches found.\n",
    "\n"
   ]
  },
  {
   "cell_type": "markdown",
   "id": "229c66d0",
   "metadata": {},
   "source": [
    "EXTRACTING DATE:"
   ]
  },
  {
   "cell_type": "code",
   "execution_count": 25,
   "id": "7b0ca129",
   "metadata": {},
   "outputs": [
    {
     "name": "stdout",
     "output_type": "stream",
     "text": [
      "['2024-04-12']\n"
     ]
    }
   ],
   "source": [
    "#Matching dates: Extracting dates from a text using regex.\n",
    "\n",
    "import re\n",
    "\n",
    "text = \"The meeting is scheduled for 2024-04-12. Don't forget!\"\n",
    "dates = re.findall(r'\\b\\d{4}-\\d{2}-\\d{2}\\b', text)\n",
    "print(dates)\n"
   ]
  },
  {
   "cell_type": "markdown",
   "id": "9970dbe5",
   "metadata": {},
   "source": [
    "Description:\n",
    "    Regular Expression Pattern: \\b\\d{4}-\\d{2}-\\d{2}\\b\n",
    "\n",
    "\\b: Matches a word boundary, ensuring that the date format is not part of a longer word.\n",
    "\\d{4}: Matches four digits, representing the year.\n",
    "-: Matches the hyphen between date components.\n",
    "\\d{2}: Matches two digits, representing the month and day.\n",
    "re.findall(): This function searches the provided text (text) for all occurrences of the regular expression pattern and returns a list of all matches found.\n",
    "\n"
   ]
  },
  {
   "cell_type": "markdown",
   "id": "ecaecc8b",
   "metadata": {},
   "source": [
    "EXTRACTING HASHTAGS:"
   ]
  },
  {
   "cell_type": "code",
   "execution_count": 27,
   "id": "57e3807b",
   "metadata": {},
   "outputs": [
    {
     "name": "stdout",
     "output_type": "stream",
     "text": [
      "['#Python', '#TextBasedAnalysis', '#MachineLearning']\n"
     ]
    }
   ],
   "source": [
    "#Matching hashtags: Extracting hashtags from a text using regex.\n",
    "\n",
    "import re\n",
    "\n",
    "text = \"Join the conversation using #Python, #TextBasedAnalysis, and #MachineLearning.\"\n",
    "hashtags = re.findall(r'#\\w+', text)\n",
    "print(hashtags)\n"
   ]
  },
  {
   "cell_type": "markdown",
   "id": "5a1d720b",
   "metadata": {},
   "source": [
    "Description:\n",
    "    Regular Expression Pattern: #\\w+\n",
    "\n",
    "#: Matches the hashtag symbol.\n",
    "\\w+: Matches one or more word characters (letters, digits, or underscores), representing the hashtag itself.\n",
    "re.findall(): This function searches the provided text (text) for all occurrences of the regular expression pattern and returns a list of all matches found."
   ]
  },
  {
   "cell_type": "markdown",
   "id": "9b058a9f",
   "metadata": {},
   "source": [
    "IDENTIFYING WORDS:"
   ]
  },
  {
   "cell_type": "code",
   "execution_count": 19,
   "id": "4d1f6908",
   "metadata": {},
   "outputs": [
    {
     "name": "stdout",
     "output_type": "stream",
     "text": [
      "Words followed by a comma: ['centuries']\n"
     ]
    }
   ],
   "source": [
    "#Identifying Words Followed by a Comma:\n",
    "\n",
    "import re\n",
    "\n",
    "text = \"Lorem Ipsum has survived not only five centuries, but also the leap into electronic typesetting.\"\n",
    "\n",
    "words_before_comma = re.findall(r'\\b(\\w+),', text)\n",
    "print(\"Words followed by a comma:\", words_before_comma)\n"
   ]
  },
  {
   "cell_type": "markdown",
   "id": "2a902324",
   "metadata": {},
   "source": [
    "Description:\n",
    "    Regular Expression Pattern: \\b(\\w+),\n",
    "\n",
    "\\b: Matches a word boundary to ensure that the word is matched at the beginning of a word.\n",
    "(\\w+): Matches one or more word characters (letters, digits, or underscores) and captures them in a group.\n",
    ",: Matches a comma immediately following the word.\n",
    "re.findall(): This function searches the provided text (text) for all occurrences of the regular expression pattern and returns a list of all matches found. Since we've enclosed the word pattern within parentheses, re.findall() captures only the word part before the comma.\n",
    "\n",
    "\n",
    "    "
   ]
  },
  {
   "cell_type": "markdown",
   "id": "13012311",
   "metadata": {},
   "source": [
    "REPLACING NUMBERS:"
   ]
  },
  {
   "cell_type": "code",
   "execution_count": 20,
   "id": "b1b100bc",
   "metadata": {},
   "outputs": [
    {
     "name": "stdout",
     "output_type": "stream",
     "text": [
      "Text with numbers replaced: Lorem Ipsum has been the industry's standard dummy text ever since the [number][number][number][number]s.\n"
     ]
    }
   ],
   "source": [
    "#Replacing All Digits with '[number]':\n",
    "\n",
    "import re\n",
    "\n",
    "text = \"Lorem Ipsum has been the industry's standard dummy text ever since the 1500s.\"\n",
    "\n",
    "numbers_hide = re.sub(r\"\\d\", \"[number]\", text)\n",
    "print(\"Text with numbers replaced:\", numbers_hide)\n"
   ]
  },
  {
   "cell_type": "markdown",
   "id": "e2aff057",
   "metadata": {},
   "source": [
    "Description:\n",
    "    Regular Expression Pattern: \\d\n",
    "\n",
    "\\d: Matches any digit (0-9).\n",
    "Replacement String: \"[number]\"\n",
    "\n",
    "This string is used to replace every digit matched in the text.\n",
    "re.sub(): This function searches the provided text (text) for all occurrences of the regular expression pattern (\\d) and replaces them with the specified replacement string (\"[number]\").\n",
    "    "
   ]
  },
  {
   "cell_type": "code",
   "execution_count": 21,
   "id": "921c7f9c",
   "metadata": {},
   "outputs": [
    {
     "name": "stdout",
     "output_type": "stream",
     "text": [
      "Words starting with 't' and ending in 'e': ['the']\n"
     ]
    }
   ],
   "source": [
    "#Extracting Words Starting with 't' and Ending in 'e':\n",
    "\n",
    "import re\n",
    "\n",
    "text = \"Lorem Ipsum is simply dummy text of the printing and typesetting industry.\"\n",
    "\n",
    "words = re.findall(r\"\\bt[a-z]*e\\b\", text)\n",
    "print(\"Words starting with 't' and ending in 'e':\", words)\n"
   ]
  },
  {
   "cell_type": "markdown",
   "id": "a76f6bf0",
   "metadata": {},
   "source": [
    "EMAIL ADDRESS MATCHING:"
   ]
  },
  {
   "cell_type": "code",
   "execution_count": 28,
   "id": "5fbc44aa",
   "metadata": {},
   "outputs": [
    {
     "name": "stdout",
     "output_type": "stream",
     "text": [
      "Email addresses found: ['hepsi.bat@gmail.com', 'john.smith@amazon.org']\n"
     ]
    }
   ],
   "source": [
    "#Matching Email Addresses:\n",
    "\n",
    "import re\n",
    "\n",
    "text = \"Contact information for our team: Hepsi Bat - hepsi.bat@gmail.com, John Smith - john.smith@amazon.org.\"\n",
    "\n",
    "emails = re.findall(r'[a-zA-Z0-9._%+-]+@[a-zA-Z0-9.-]+\\.[a-zA-Z]{2,}', text)\n",
    "print(\"Email addresses found:\", emails)\n"
   ]
  },
  {
   "cell_type": "markdown",
   "id": "b16888a4",
   "metadata": {},
   "source": [
    "Description:\n",
    "    Regular Expression Pattern: [a-zA-Z0-9._%+-]+@[a-zA-Z0-9.-]+\\.[a-zA-Z]{2,}\n",
    "\n",
    "[a-zA-Z0-9._%+-]+: Matches one or more alphanumeric characters, dots, underscores, percent signs, plus signs, or hyphens before the \"@\" symbol.\n",
    "@: Matches the \"@\" symbol.\n",
    "[a-zA-Z0-9.-]+: Matches one or more alphanumeric characters, dots, or hyphens after the \"@\" symbol.\n",
    "\\.: Matches the dot (.) symbol.\n",
    "[a-zA-Z]{2,}: Matches two or more alphabetical characters after the dot, representing the domain extension (e.g., com, org).\n",
    "re.findall(): This function searches the provided text (text) for all occurrences of the regular expression pattern and returns a list of all matching substrings.\n",
    "\n",
    "\n",
    "    "
   ]
  },
  {
   "cell_type": "code",
   "execution_count": null,
   "id": "e0251e4c",
   "metadata": {},
   "outputs": [],
   "source": []
  }
 ],
 "metadata": {
  "kernelspec": {
   "display_name": "Python 3 (ipykernel)",
   "language": "python",
   "name": "python3"
  },
  "language_info": {
   "codemirror_mode": {
    "name": "ipython",
    "version": 3
   },
   "file_extension": ".py",
   "mimetype": "text/x-python",
   "name": "python",
   "nbconvert_exporter": "python",
   "pygments_lexer": "ipython3",
   "version": "3.11.5"
  }
 },
 "nbformat": 4,
 "nbformat_minor": 5
}
