{
 "cells": [
  {
   "cell_type": "code",
   "execution_count": 1,
   "id": "cf1aafc4",
   "metadata": {},
   "outputs": [
    {
     "name": "stdout",
     "output_type": "stream",
     "text": [
      "Original:    Hello, World!   \n",
      "After lstrip(): Hello, World!   \n",
      "After lstrip(' H'): ello, World!   \n"
     ]
    }
   ],
   "source": [
    "# lstrip() - Removes leading whitespace or specified characters from the left side of a string\n",
    "text = \"   Hello, World!   \"\n",
    "print(\"Original:\", text)\n",
    "print(\"After lstrip():\", text.lstrip())  # Removes leading whitespace\n",
    "print(\"After lstrip(' H'):\", text.lstrip(' H'))  # Removes leading whitespace and 'H'"
   ]
  },
  {
   "cell_type": "code",
   "execution_count": 2,
   "id": "7d6e6325",
   "metadata": {},
   "outputs": [
    {
     "name": "stdout",
     "output_type": "stream",
     "text": [
      "Repeated: HelloHelloHello\n"
     ]
    }
   ],
   "source": [
    "# repetition (*) - Repeats a string a specified number of times\n",
    "s = \"Hello\"\n",
    "print(\"Repeated:\", s * 3)"
   ]
  },
  {
   "cell_type": "code",
   "execution_count": 3,
   "id": "ad5b803a",
   "metadata": {},
   "outputs": [
    {
     "name": "stdout",
     "output_type": "stream",
     "text": [
      "Index of 'World': 7\n"
     ]
    }
   ],
   "source": [
    "# find(substring) - Returns the lowest index of the substring if found in the string\n",
    "text = \"Hello, World!\"\n",
    "substring = \"World\"\n",
    "print(\"Index of 'World':\", text.find(substring))\n"
   ]
  },
  {
   "cell_type": "code",
   "execution_count": 4,
   "id": "f98bf1e0",
   "metadata": {},
   "outputs": [
    {
     "name": "stdout",
     "output_type": "stream",
     "text": [
      "Tokens: ['Hello', 'World!']\n"
     ]
    }
   ],
   "source": [
    "# string tokens - Splitting a string into tokens based on a delimiter\n",
    "text = \"Hello, World!\"\n",
    "tokens = text.split(', ')\n",
    "print(\"Tokens:\", tokens)"
   ]
  },
  {
   "cell_type": "code",
   "execution_count": 5,
   "id": "6da5d166",
   "metadata": {},
   "outputs": [
    {
     "name": "stdout",
     "output_type": "stream",
     "text": [
      "Is alphanumeric: True\n"
     ]
    }
   ],
   "source": [
    "# isalnum() - Checks if all characters in the string are alphanumeric (letters or numbers)\n",
    "s = \"Hello123\"\n",
    "print(\"Is alphanumeric:\", s.isalnum())\n"
   ]
  },
  {
   "cell_type": "code",
   "execution_count": 10,
   "id": "72b7a317",
   "metadata": {},
   "outputs": [
    {
     "name": "stdout",
     "output_type": "stream",
     "text": [
      "Title: Hello World\n"
     ]
    }
   ],
   "source": [
    "# title() - Converts the first character of each word in a string to uppercase and the rest to lowercase\n",
    "s = \"hello world\"\n",
    "print(\"Title:\", s.title())"
   ]
  },
  {
   "cell_type": "code",
   "execution_count": 24,
   "id": "497d19df",
   "metadata": {},
   "outputs": [
    {
     "name": "stdout",
     "output_type": "stream",
     "text": [
      "['The', 'cat', 'is', 'on', 'the', 'mat']\n"
     ]
    }
   ],
   "source": [
    "#sentence split()\n",
    "sentence = \"The cat is on the mat\"\n",
    "words = sentence.split()\n",
    "print(words)\n"
   ]
  },
  {
   "cell_type": "code",
   "execution_count": 12,
   "id": "8b277203",
   "metadata": {},
   "outputs": [
    {
     "name": "stdout",
     "output_type": "stream",
     "text": [
      "Substring: World\n"
     ]
    }
   ],
   "source": [
    "# Extracting a substring using slicing\n",
    "text = \"Hello, World!\"\n",
    "\n",
    "# Extract substring from index 7 to 12 (exclusive)\n",
    "substring = text[7:12]\n",
    "print(\"Substring:\", substring)  # Output: \"World\"\n"
   ]
  },
  {
   "cell_type": "code",
   "execution_count": 13,
   "id": "77e2f159",
   "metadata": {},
   "outputs": [
    {
     "name": "stdout",
     "output_type": "stream",
     "text": [
      "Original Text: hello, world!\n",
      "Capitalized Text: Hello, world!\n"
     ]
    }
   ],
   "source": [
    "# Using capitalize() method\n",
    "text = \"hello, world!\"\n",
    "\n",
    "# Convert the first character to uppercase and the rest to lowercase\n",
    "capitalized_text = text.capitalize()\n",
    "\n",
    "print(\"Original Text:\", text)\n",
    "print(\"Capitalized Text:\", capitalized_text)\n"
   ]
  },
  {
   "cell_type": "code",
   "execution_count": 14,
   "id": "7c634d5b",
   "metadata": {},
   "outputs": [
    {
     "name": "stdout",
     "output_type": "stream",
     "text": [
      "['555-987-6543']\n"
     ]
    }
   ],
   "source": [
    "#Matching phone numbers: Extracting phone numbers from a text using regex.\n",
    "\n",
    "import re\n",
    "\n",
    "text = \"Contact us at +1 (555) 123-4567 or 555-987-6543.\"\n",
    "phone_numbers = re.findall(r'\\b\\d{3}[-.]?\\d{3}[-.]?\\d{4}\\b', text)\n",
    "print(phone_numbers)\n"
   ]
  },
  {
   "cell_type": "code",
   "execution_count": 26,
   "id": "5a3e4ec1",
   "metadata": {},
   "outputs": [
    {
     "name": "stdout",
     "output_type": "stream",
     "text": [
      "['https://www.google.com', 'http://google.org']\n"
     ]
    }
   ],
   "source": [
    "#Matching URLs: Extracting URLs from a text using regex.\n",
    "\n",
    "import re\n",
    "\n",
    "text = \"Visit our website at https://www.google.com or http://google.org\"\n",
    "urls = re.findall(r'https?://\\S+', text)\n",
    "print(urls)\n"
   ]
  },
  {
   "cell_type": "code",
   "execution_count": 25,
   "id": "76d44fb1",
   "metadata": {},
   "outputs": [
    {
     "name": "stdout",
     "output_type": "stream",
     "text": [
      "['2024-04-12']\n"
     ]
    }
   ],
   "source": [
    "#Matching dates: Extracting dates from a text using regex.\n",
    "\n",
    "import re\n",
    "\n",
    "text = \"The meeting is scheduled for 2024-04-12. Don't forget!\"\n",
    "dates = re.findall(r'\\b\\d{4}-\\d{2}-\\d{2}\\b', text)\n",
    "print(dates)\n"
   ]
  },
  {
   "cell_type": "code",
   "execution_count": 27,
   "id": "9b98a8f5",
   "metadata": {},
   "outputs": [
    {
     "name": "stdout",
     "output_type": "stream",
     "text": [
      "['#Python', '#TextBasedAnalysis', '#MachineLearning']\n"
     ]
    }
   ],
   "source": [
    "#Matching hashtags: Extracting hashtags from a text using regex.\n",
    "\n",
    "import re\n",
    "\n",
    "text = \"Join the conversation using #Python, #TextBasedAnalysis, and #MachineLearning.\"\n",
    "hashtags = re.findall(r'#\\w+', text)\n",
    "print(hashtags)\n"
   ]
  },
  {
   "cell_type": "code",
   "execution_count": 19,
   "id": "e9d2bac0",
   "metadata": {},
   "outputs": [
    {
     "name": "stdout",
     "output_type": "stream",
     "text": [
      "Words followed by a comma: ['centuries']\n"
     ]
    }
   ],
   "source": [
    "#Identifying Words Followed by a Comma:\n",
    "\n",
    "import re\n",
    "\n",
    "text = \"Lorem Ipsum has survived not only five centuries, but also the leap into electronic typesetting.\"\n",
    "\n",
    "words_before_comma = re.findall(r'\\b(\\w+),', text)\n",
    "print(\"Words followed by a comma:\", words_before_comma)\n"
   ]
  },
  {
   "cell_type": "code",
   "execution_count": 20,
   "id": "724a7864",
   "metadata": {},
   "outputs": [
    {
     "name": "stdout",
     "output_type": "stream",
     "text": [
      "Text with numbers replaced: Lorem Ipsum has been the industry's standard dummy text ever since the [number][number][number][number]s.\n"
     ]
    }
   ],
   "source": [
    "#Replacing All Digits with '[number]':\n",
    "\n",
    "import re\n",
    "\n",
    "text = \"Lorem Ipsum has been the industry's standard dummy text ever since the 1500s.\"\n",
    "\n",
    "numbers_hide = re.sub(r\"\\d\", \"[number]\", text)\n",
    "print(\"Text with numbers replaced:\", numbers_hide)\n"
   ]
  },
  {
   "cell_type": "code",
   "execution_count": 21,
   "id": "efc9d5a3",
   "metadata": {},
   "outputs": [
    {
     "name": "stdout",
     "output_type": "stream",
     "text": [
      "Words starting with 't' and ending in 'e': ['the']\n"
     ]
    }
   ],
   "source": [
    "#Extracting Words Starting with 't' and Ending in 'e':\n",
    "\n",
    "import re\n",
    "\n",
    "text = \"Lorem Ipsum is simply dummy text of the printing and typesetting industry.\"\n",
    "\n",
    "words = re.findall(r\"\\bt[a-z]*e\\b\", text)\n",
    "print(\"Words starting with 't' and ending in 'e':\", words)\n"
   ]
  },
  {
   "cell_type": "code",
   "execution_count": 28,
   "id": "0fa20350",
   "metadata": {},
   "outputs": [
    {
     "name": "stdout",
     "output_type": "stream",
     "text": [
      "Email addresses found: ['hepsi.bat@gmail.com', 'john.smith@amazon.org']\n"
     ]
    }
   ],
   "source": [
    "#Matching Email Addresses:\n",
    "\n",
    "import re\n",
    "\n",
    "text = \"Contact information for our team: Hepsi Bat - hepsi.bat@gmail.com, John Smith - john.smith@amazon.org.\"\n",
    "\n",
    "emails = re.findall(r'[a-zA-Z0-9._%+-]+@[a-zA-Z0-9.-]+\\.[a-zA-Z]{2,}', text)\n",
    "print(\"Email addresses found:\", emails)\n"
   ]
  },
  {
   "cell_type": "code",
   "execution_count": null,
   "id": "2a57ee26",
   "metadata": {},
   "outputs": [],
   "source": []
  }
 ],
 "metadata": {
  "kernelspec": {
   "display_name": "Python 3 (ipykernel)",
   "language": "python",
   "name": "python3"
  },
  "language_info": {
   "codemirror_mode": {
    "name": "ipython",
    "version": 3
   },
   "file_extension": ".py",
   "mimetype": "text/x-python",
   "name": "python",
   "nbconvert_exporter": "python",
   "pygments_lexer": "ipython3",
   "version": "3.11.5"
  }
 },
 "nbformat": 4,
 "nbformat_minor": 5
}
